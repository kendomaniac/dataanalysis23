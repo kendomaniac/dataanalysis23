{
 "cells": [
  {
   "cell_type": "code",
   "execution_count": 1,
   "id": "0f4251db-54a6-4473-9e08-261edbb4380d",
   "metadata": {
    "tags": []
   },
   "outputs": [
    {
     "data": {
      "text/html": [
       "<style>\n",
       ".list-inline {list-style: none; margin:0; padding: 0}\n",
       ".list-inline>li {display: inline-block}\n",
       ".list-inline>li:not(:last-child)::after {content: \"\\00b7\"; padding: 0 .5ex}\n",
       "</style>\n",
       "<ol class=list-inline><li>'README.md'</li><li>'Screenshot2023-03-14at08.01.41.png'</li><li>'commandR.ipynb'</li><li>'configurationFile.txt'</li><li>'data'</li><li>'id.txt'</li><li>'py386r411_jupyter_lab_wDocker'</li><li>'script.sh'</li></ol>\n"
      ],
      "text/latex": [
       "\\begin{enumerate*}\n",
       "\\item 'README.md'\n",
       "\\item 'Screenshot2023-03-14at08.01.41.png'\n",
       "\\item 'commandR.ipynb'\n",
       "\\item 'configurationFile.txt'\n",
       "\\item 'data'\n",
       "\\item 'id.txt'\n",
       "\\item 'py386r411\\_jupyter\\_lab\\_wDocker'\n",
       "\\item 'script.sh'\n",
       "\\end{enumerate*}\n"
      ],
      "text/markdown": [
       "1. 'README.md'\n",
       "2. 'Screenshot2023-03-14at08.01.41.png'\n",
       "3. 'commandR.ipynb'\n",
       "4. 'configurationFile.txt'\n",
       "5. 'data'\n",
       "6. 'id.txt'\n",
       "7. 'py386r411_jupyter_lab_wDocker'\n",
       "8. 'script.sh'\n",
       "\n",
       "\n"
      ],
      "text/plain": [
       "[1] \"README.md\"                          \"Screenshot2023-03-14at08.01.41.png\"\n",
       "[3] \"commandR.ipynb\"                     \"configurationFile.txt\"             \n",
       "[5] \"data\"                               \"id.txt\"                            \n",
       "[7] \"py386r411_jupyter_lab_wDocker\"      \"script.sh\"                         "
      ]
     },
     "metadata": {},
     "output_type": "display_data"
    }
   ],
   "source": [
    "dir()\n"
   ]
  },
  {
   "cell_type": "code",
   "execution_count": 2,
   "id": "355fa6e2-3b3f-4a8d-b8d7-11c4504248c3",
   "metadata": {},
   "outputs": [
    {
     "data": {
      "text/html": [],
      "text/latex": [],
      "text/markdown": [],
      "text/plain": [
       "character(0)"
      ]
     },
     "metadata": {},
     "output_type": "display_data"
    }
   ],
   "source": [
    "#lvmcm/`mv\n",
    "ls()"
   ]
  },
  {
   "cell_type": "code",
   "execution_count": null,
   "id": "90dd6e68-3bb5-4f17-869d-e0b42803fc60",
   "metadata": {},
   "outputs": [],
   "source": []
  }
 ],
 "metadata": {
  "kernelspec": {
   "display_name": "R",
   "language": "R",
   "name": "ir"
  },
  "language_info": {
   "codemirror_mode": "r",
   "file_extension": ".r",
   "mimetype": "text/x-r-source",
   "name": "R",
   "pygments_lexer": "r",
   "version": "4.1.1"
  }
 },
 "nbformat": 4,
 "nbformat_minor": 5
}
